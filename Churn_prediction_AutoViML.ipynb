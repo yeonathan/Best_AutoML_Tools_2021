{
 "cells": [
  {
   "cell_type": "markdown",
   "metadata": {
    "id": "Ydtu2LgJT7RP"
   },
   "source": [
    "Link to supporting video for below notebook walkhthrough - https://www.youtube.com/watch?v=RqhTzEVkfBQ\n"
   ]
  },
  {
   "cell_type": "code",
   "execution_count": null,
   "metadata": {
    "id": "kbHRfwu_CTJP"
   },
   "outputs": [],
   "source": [
    "!pip install autoviml"
   ]
  },
  {
   "cell_type": "code",
   "execution_count": null,
   "metadata": {
    "colab": {
     "base_uri": "https://localhost:8080/",
     "height": 190
    },
    "id": "kNEGwU3oU00R",
    "outputId": "709bc468-efff-4c16-ca7d-c22f5b764903"
   },
   "outputs": [
    {
     "name": "stdout",
     "output_type": "stream",
     "text": [
      "Requirement already satisfied: shap in /usr/local/lib/python3.6/dist-packages (0.34.0)\n",
      "Requirement already satisfied: scikit-learn in /usr/local/lib/python3.6/dist-packages (from shap) (0.21.3)\n",
      "Requirement already satisfied: tqdm>4.25.0 in /usr/local/lib/python3.6/dist-packages (from shap) (4.28.1)\n",
      "Requirement already satisfied: scipy in /usr/local/lib/python3.6/dist-packages (from shap) (1.3.3)\n",
      "Requirement already satisfied: pandas in /usr/local/lib/python3.6/dist-packages (from shap) (0.25.3)\n",
      "Requirement already satisfied: numpy in /usr/local/lib/python3.6/dist-packages (from shap) (1.17.4)\n",
      "Requirement already satisfied: joblib>=0.11 in /usr/local/lib/python3.6/dist-packages (from scikit-learn->shap) (0.14.1)\n",
      "Requirement already satisfied: python-dateutil>=2.6.1 in /usr/local/lib/python3.6/dist-packages (from pandas->shap) (2.6.1)\n",
      "Requirement already satisfied: pytz>=2017.2 in /usr/local/lib/python3.6/dist-packages (from pandas->shap) (2018.9)\n",
      "Requirement already satisfied: six>=1.5 in /usr/local/lib/python3.6/dist-packages (from python-dateutil>=2.6.1->pandas->shap) (1.12.0)\n"
     ]
    }
   ],
   "source": [
    "!pip install shap"
   ]
  },
  {
   "cell_type": "code",
   "execution_count": null,
   "metadata": {
    "id": "wYsohgWlDB8X"
   },
   "outputs": [],
   "source": [
    "from __future__ import print_function\n",
    "import sys,tempfile, urllib, os\n",
    "import pandas as pd"
   ]
  },
  {
   "cell_type": "code",
   "execution_count": null,
   "metadata": {
    "id": "elkIXKcHC06h"
   },
   "outputs": [],
   "source": [
    "BASE_DIR = '/tmp'\n",
    "OUTPUT_FILE = os.path.join(BASE_DIR, 'churn_data.csv')"
   ]
  },
  {
   "cell_type": "code",
   "execution_count": null,
   "metadata": {
    "id": "cjq6fldrDI5b"
   },
   "outputs": [],
   "source": [
    "churn_data=urllib.request.urlretrieve('https://raw.githubusercontent.com/srivatsan88/YouTubeLI/master/dataset/WA_Fn-UseC_-Telco-Customer-Churn.csv', OUTPUT_FILE)"
   ]
  },
  {
   "cell_type": "code",
   "execution_count": null,
   "metadata": {
    "id": "esk0QhacDQEj"
   },
   "outputs": [],
   "source": [
    "churn_df = pd.read_csv(OUTPUT_FILE)"
   ]
  },
  {
   "cell_type": "code",
   "execution_count": null,
   "metadata": {
    "colab": {
     "base_uri": "https://localhost:8080/",
     "height": 309
    },
    "id": "cwaOT3fCDVR8",
    "outputId": "c40316d1-dcf8-43d9-fa63-fb2cfbac4612"
   },
   "outputs": [
    {
     "data": {
      "text/html": [
       "<div>\n",
       "<style scoped>\n",
       "    .dataframe tbody tr th:only-of-type {\n",
       "        vertical-align: middle;\n",
       "    }\n",
       "\n",
       "    .dataframe tbody tr th {\n",
       "        vertical-align: top;\n",
       "    }\n",
       "\n",
       "    .dataframe thead th {\n",
       "        text-align: right;\n",
       "    }\n",
       "</style>\n",
       "<table border=\"1\" class=\"dataframe\">\n",
       "  <thead>\n",
       "    <tr style=\"text-align: right;\">\n",
       "      <th></th>\n",
       "      <th>customerID</th>\n",
       "      <th>gender</th>\n",
       "      <th>SeniorCitizen</th>\n",
       "      <th>Partner</th>\n",
       "      <th>Dependents</th>\n",
       "      <th>tenure</th>\n",
       "      <th>PhoneService</th>\n",
       "      <th>MultipleLines</th>\n",
       "      <th>InternetService</th>\n",
       "      <th>OnlineSecurity</th>\n",
       "      <th>OnlineBackup</th>\n",
       "      <th>DeviceProtection</th>\n",
       "      <th>TechSupport</th>\n",
       "      <th>StreamingTV</th>\n",
       "      <th>StreamingMovies</th>\n",
       "      <th>Contract</th>\n",
       "      <th>PaperlessBilling</th>\n",
       "      <th>PaymentMethod</th>\n",
       "      <th>MonthlyCharges</th>\n",
       "      <th>TotalCharges</th>\n",
       "      <th>Churn</th>\n",
       "    </tr>\n",
       "  </thead>\n",
       "  <tbody>\n",
       "    <tr>\n",
       "      <th>0</th>\n",
       "      <td>7590-VHVEG</td>\n",
       "      <td>Female</td>\n",
       "      <td>0</td>\n",
       "      <td>Yes</td>\n",
       "      <td>No</td>\n",
       "      <td>1</td>\n",
       "      <td>No</td>\n",
       "      <td>No phone service</td>\n",
       "      <td>DSL</td>\n",
       "      <td>No</td>\n",
       "      <td>Yes</td>\n",
       "      <td>No</td>\n",
       "      <td>No</td>\n",
       "      <td>No</td>\n",
       "      <td>No</td>\n",
       "      <td>Month-to-month</td>\n",
       "      <td>Yes</td>\n",
       "      <td>Electronic check</td>\n",
       "      <td>29.85</td>\n",
       "      <td>29.85</td>\n",
       "      <td>No</td>\n",
       "    </tr>\n",
       "    <tr>\n",
       "      <th>1</th>\n",
       "      <td>5575-GNVDE</td>\n",
       "      <td>Male</td>\n",
       "      <td>0</td>\n",
       "      <td>No</td>\n",
       "      <td>No</td>\n",
       "      <td>34</td>\n",
       "      <td>Yes</td>\n",
       "      <td>No</td>\n",
       "      <td>DSL</td>\n",
       "      <td>Yes</td>\n",
       "      <td>No</td>\n",
       "      <td>Yes</td>\n",
       "      <td>No</td>\n",
       "      <td>No</td>\n",
       "      <td>No</td>\n",
       "      <td>One year</td>\n",
       "      <td>No</td>\n",
       "      <td>Mailed check</td>\n",
       "      <td>56.95</td>\n",
       "      <td>1889.5</td>\n",
       "      <td>No</td>\n",
       "    </tr>\n",
       "    <tr>\n",
       "      <th>2</th>\n",
       "      <td>3668-QPYBK</td>\n",
       "      <td>Male</td>\n",
       "      <td>0</td>\n",
       "      <td>No</td>\n",
       "      <td>No</td>\n",
       "      <td>2</td>\n",
       "      <td>Yes</td>\n",
       "      <td>No</td>\n",
       "      <td>DSL</td>\n",
       "      <td>Yes</td>\n",
       "      <td>Yes</td>\n",
       "      <td>No</td>\n",
       "      <td>No</td>\n",
       "      <td>No</td>\n",
       "      <td>No</td>\n",
       "      <td>Month-to-month</td>\n",
       "      <td>Yes</td>\n",
       "      <td>Mailed check</td>\n",
       "      <td>53.85</td>\n",
       "      <td>108.15</td>\n",
       "      <td>Yes</td>\n",
       "    </tr>\n",
       "    <tr>\n",
       "      <th>3</th>\n",
       "      <td>7795-CFOCW</td>\n",
       "      <td>Male</td>\n",
       "      <td>0</td>\n",
       "      <td>No</td>\n",
       "      <td>No</td>\n",
       "      <td>45</td>\n",
       "      <td>No</td>\n",
       "      <td>No phone service</td>\n",
       "      <td>DSL</td>\n",
       "      <td>Yes</td>\n",
       "      <td>No</td>\n",
       "      <td>Yes</td>\n",
       "      <td>Yes</td>\n",
       "      <td>No</td>\n",
       "      <td>No</td>\n",
       "      <td>One year</td>\n",
       "      <td>No</td>\n",
       "      <td>Bank transfer (automatic)</td>\n",
       "      <td>42.30</td>\n",
       "      <td>1840.75</td>\n",
       "      <td>No</td>\n",
       "    </tr>\n",
       "    <tr>\n",
       "      <th>4</th>\n",
       "      <td>9237-HQITU</td>\n",
       "      <td>Female</td>\n",
       "      <td>0</td>\n",
       "      <td>No</td>\n",
       "      <td>No</td>\n",
       "      <td>2</td>\n",
       "      <td>Yes</td>\n",
       "      <td>No</td>\n",
       "      <td>Fiber optic</td>\n",
       "      <td>No</td>\n",
       "      <td>No</td>\n",
       "      <td>No</td>\n",
       "      <td>No</td>\n",
       "      <td>No</td>\n",
       "      <td>No</td>\n",
       "      <td>Month-to-month</td>\n",
       "      <td>Yes</td>\n",
       "      <td>Electronic check</td>\n",
       "      <td>70.70</td>\n",
       "      <td>151.65</td>\n",
       "      <td>Yes</td>\n",
       "    </tr>\n",
       "  </tbody>\n",
       "</table>\n",
       "</div>"
      ],
      "text/plain": [
       "   customerID  gender  SeniorCitizen  ... MonthlyCharges TotalCharges  Churn\n",
       "0  7590-VHVEG  Female              0  ...          29.85        29.85     No\n",
       "1  5575-GNVDE    Male              0  ...          56.95       1889.5     No\n",
       "2  3668-QPYBK    Male              0  ...          53.85       108.15    Yes\n",
       "3  7795-CFOCW    Male              0  ...          42.30      1840.75     No\n",
       "4  9237-HQITU  Female              0  ...          70.70       151.65    Yes\n",
       "\n",
       "[5 rows x 21 columns]"
      ]
     },
     "execution_count": 5,
     "metadata": {
      "tags": []
     },
     "output_type": "execute_result"
    }
   ],
   "source": [
    "churn_df.head()"
   ]
  },
  {
   "cell_type": "code",
   "execution_count": null,
   "metadata": {
    "id": "RAkXBnJkDYoB"
   },
   "outputs": [],
   "source": [
    "size = int(0.7*churn_df.shape[0])\n",
    "train_df = churn_df[:size]\n",
    "test_df = churn_df[size:]"
   ]
  },
  {
   "cell_type": "code",
   "execution_count": null,
   "metadata": {
    "colab": {
     "base_uri": "https://localhost:8080/",
     "height": 190
    },
    "id": "IJEeNCNQEn2c",
    "outputId": "2ade54e8-3b80-40a4-9fb7-064ba4760b08"
   },
   "outputs": [
    {
     "name": "stdout",
     "output_type": "stream",
     "text": [
      "Imported Auto_ViML version: 0.1.470. Call using: \n",
      "             m, feats, trainm, testm = Auto_ViML(train, target, test, \n",
      "                                    sample_submission='',\n",
      "                                    scoring_parameter='',\n",
      "                                    hyper_param='GS',feature_reduction=True,\n",
      "                                     Boosting_Flag=None,Binning_Flag=False,\n",
      "                                    Add_Poly=0, Stacking_Flag=False,Imbalanced_Flag=False, \n",
      "                                    verbose=0)\n",
      "            \n",
      "To remove previous versions, perform 'pip uninstall autoviml'\n"
     ]
    }
   ],
   "source": [
    "from autoviml.Auto_ViML import Auto_ViML"
   ]
  },
  {
   "cell_type": "code",
   "execution_count": null,
   "metadata": {
    "id": "T3tKIdKGFUpQ"
   },
   "outputs": [],
   "source": [
    "target='Churn'"
   ]
  },
  {
   "cell_type": "code",
   "execution_count": null,
   "metadata": {
    "colab": {
     "base_uri": "https://localhost:8080/",
     "height": 1000
    },
    "id": "CT3wE4N7FNvf",
    "outputId": "bd1e14b0-490a-4612-a7cc-fb9f4e30ff5e"
   },
   "outputs": [
    {
     "name": "stdout",
     "output_type": "stream",
     "text": [
      "Train (Size: 4930,21) has Single_Label with target: ['Churn']\n",
      "\"\n",
      " ################### Binary-Class ##################### \" \n",
      "Shuffling the data set before training\n",
      " Class  -> Counts -> Percent\n",
      "   Yes:    1289  ->   26.1%\n",
      "    No:    3641  ->   73.9%\n",
      "Selecting Binary_Classification Classifier...\n",
      "    Using RandomizedSearchCV for Hyper Parameter Tuning. This will take time...\n",
      "String or Multi Class target: Churn transformed as follows: {'No': 0, 'Yes': 1}\n",
      "Classifying variables in data set...\n",
      "    Number of Numeric Columns =  1\n",
      "    Number of Integer-Categorical Columns =  1\n",
      "    Number of String-Categorical Columns =  10\n",
      "    Number of Factor-Categorical Columns =  0\n",
      "    Number of String-Boolean Columns =  5\n",
      "    Number of Numeric-Boolean Columns =  1\n",
      "    Number of Discrete String Columns =  1\n",
      "    Number of NLP String Columns =  0\n",
      "    Number of Date Time Columns =  0\n",
      "    Number of ID Columns =  1\n",
      "    Number of Columns to Delete =  0\n",
      "    20 Predictors classified...\n",
      "        This does not include the Target column(s)\n",
      "    1 variables removed since they were ID or low-information variables\n",
      "Test data has no missing values...\n",
      "Number of numeric variables = 3\n",
      "    No variables were removed since no highly correlated variables found in data\n",
      "    Feature Selection begins: currently 19 predictors\n",
      "\n",
      "Data Ready for Modeling with Churn as Target...\n",
      "Linear feature selection: out of 16 categorical features...\n",
      "    Selecting 14 categorical features\n",
      "Number of numeric variables = 3\n",
      "    No variables were removed since no highly correlated variables found in data\n",
      "    Adding 14 categorical variables to reduced numeric variables  of 3\n",
      "Current number of predictors = 17 \n",
      "    Finding Important Features using Boosted Trees algorithm...\n",
      "        using 17 variables...\n",
      "        using 14 variables...\n",
      "        using 11 variables...\n",
      "        using 8 variables...\n",
      "        using 5 variables...\n",
      "        using 2 variables...\n",
      "Found 17 important features\n",
      "    Features list: ['Contract', 'TechSupport', 'OnlineSecurity', 'InternetService', 'tenure', 'PaymentMethod', 'PaperlessBilling', 'MonthlyCharges', 'StreamingMovies', 'OnlineBackup', 'MultipleLines', 'StreamingTV', 'SeniorCitizen', 'TotalCharges', 'Dependents', 'DeviceProtection', 'Partner']\n",
      "Starting Feature Engineering now...\n",
      "    No Entropy Binning specified or there are no numeric vars in data set to Bin\n",
      "\n",
      "Rows in Train data set = 4437\n",
      "  Features in Train data set = 17\n",
      "    Rows in held-out data set = 493\n",
      "Finding Best Model and Hyper Parameters for Target: Churn...\n",
      "    Baseline Accuracy Needed for Model = 73.85%\n",
      "\n",
      "Using XGBoost Model, Estimated Training time = 2.5 mins\n",
      "\n",
      "Imbalanced Class Training using Majority Class Downsampling method...\n",
      "Rare Class = 1\n",
      "    Pct of Rare Class in data = 26.32%\n",
      "    Number of iterations for training =  1\n",
      "This is not an Imbalanced data set. Training in one batch...\n",
      "    Model training time (in seconds): 25\n",
      "5-fold Cross Validation  Accuracy = 58.4%\n",
      "    Best Parameters for Model = {'n_estimators': 700, 'max_depth': 2, 'learning_rate': 0.1, 'gamma': 0}\n",
      "Finding Best Threshold for Highest F1 Score...\n",
      "    Using threshold=0.5. However, 0.35 provides better F1=0.68 for rare class...\n",
      "XGBoost Model Prediction Results on Held Out CV Data Set:\n",
      "    Regular Accuracy Score = 82.6%\n",
      "    Balanced Accuracy Score = 72.3%\n",
      "              precision    recall  f1-score   support\n",
      "\n",
      "           0       0.86      0.92      0.89       372\n",
      "           1       0.69      0.52      0.59       121\n",
      "\n",
      "    accuracy                           0.83       493\n",
      "   macro avg       0.77      0.72      0.74       493\n",
      "weighted avg       0.82      0.83      0.82       493\n",
      "\n",
      "[[344  28]\n",
      " [ 58  63]]\n",
      "    Time taken for Ensembling: 2.3 seconds\n",
      "########################################################\n",
      "Completed Ensemble predictions on held out data\n"
     ]
    },
    {
     "data": {
      "image/png": "[encoded data removed]",
      "text/plain": [
       "<Figure size 720x432 with 1 Axes>"
      ]
     },
     "metadata": {
      "tags": []
     },
     "output_type": "display_data"
    },
    {
     "name": "stdout",
     "output_type": "stream",
     "text": [
      "Average precision-recall score: 0.77\n",
      "Macro F1 score, averaged over all classes: 0.74\n"
     ]
    },
    {
     "data": {
      "image/png": "[encoded data removed]",
      "text/plain": [
       "<Figure size 720x432 with 1 Axes>"
      ]
     },
     "metadata": {
      "tags": []
     },
     "output_type": "display_data"
    },
    {
     "name": "stdout",
     "output_type": "stream",
     "text": [
      "After multiple models, Ensemble Model Results:\n",
      "    Balanced Accuracy Score = 73.116%\n",
      "              precision    recall  f1-score   support\n",
      "\n",
      "           0       0.86      0.91      0.88       372\n",
      "           1       0.66      0.55      0.60       121\n",
      "\n",
      "    accuracy                           0.82       493\n",
      "   macro avg       0.76      0.73      0.74       493\n",
      "weighted avg       0.81      0.82      0.82       493\n",
      "\n",
      "[[338  34]\n",
      " [ 54  67]]\n",
      "\n",
      "Ensembling Models is better than Single Model for this data set.\n"
     ]
    },
    {
     "data": {
      "image/png": "[encoded data removed]",
      "text/plain": [
       "<Figure size 720x360 with 1 Axes>"
      ]
     },
     "metadata": {
      "tags": []
     },
     "output_type": "display_data"
    },
    {
     "name": "stdout",
     "output_type": "stream",
     "text": [
      "    Time taken for this Target (in seconds) = 31\n"
     ]
    },
    {
     "data": {
      "image/png": "[encoded data removed]",
      "text/plain": [
       "<Figure size 576x597.6 with 2 Axes>"
      ]
     },
     "metadata": {
      "tags": []
     },
     "output_type": "display_data"
    },
    {
     "name": "stdout",
     "output_type": "stream",
     "text": [
      "Plotting SHAP (SHapley Additive exPlanations) values to explain the output of model\n",
      "\n",
      "###################################################################################\n",
      "Training model on complete Train data and Predicting using give Test Data...\n",
      "    No Entropy Binning specified or there are no numeric vars in data set to Bin\n",
      "\n",
      "Imbalanced Class Training using Majority Class Downsampling method...\n",
      "Rare Class = 1\n",
      "    Pct of Rare Class in data = 26.15%\n",
      "    Number of iterations for training =  1\n",
      "This is not an Imbalanced data set. Training in one batch...\n",
      "Model Training time taken in seconds = 1\n",
      "Test Data predictions using Threshold = 0.5\n",
      "QuickML_Ensembling completed.\n",
      "    Time taken for Ensembling: 2.3 seconds\n",
      "########################################################\n",
      "Completed Ensemble predictions on held out data\n",
      "    Saving predictions to ./Churn/Churn_Binary_Classification_test_modified.csv\n",
      "    Saving predictions to ./Churn/Churn_Binary_Classification_submission.csv\n",
      "    Saving predictions to ./Churn/Churn_Binary_Classification_train_modified.csv\n",
      "Time Taken in mins = 0.7 for the Entire Process\n"
     ]
    },
    {
     "data": {
      "image/png": "[encoded data removed]",
      "text/plain": [
       "<Figure size 720x432 with 1 Axes>"
      ]
     },
     "metadata": {
      "tags": []
     },
     "output_type": "display_data"
    }
   ],
   "source": [
    "model, features, trainm, testm = Auto_ViML(train_df, target, test_df, sample_submission='',\n",
    "                                    scoring_parameter='',\n",
    "                                    hyper_param='RS',feature_reduction=True,\n",
    "                                     Boosting_Flag=True,Binning_Flag=False,\n",
    "                                    Add_Poly=0, Stacking_Flag=False, \n",
    "                                    Imbalanced_Flag=True, \n",
    "                                    verbose=1)"
   ]
  },
  {
   "cell_type": "markdown",
   "metadata": {
    "id": "IQ8yj2fCK8yJ"
   },
   "source": [
    "hyper_param: Tuning options are GridSearch ('GS') and RandomizedSearch ('RS'). Default is 'GS'.\n",
    "\n",
    "feature_reduction: Default = 'True' but it can be set to False if you don't want automatic    \n",
    "\n",
    "Boosting Flag: you have 4 possible choices (default is False):                               \n",
    "  None = This will build a Linear Model                                                  \n",
    "  False = This will build a Random Forest or Extra Trees model (also known as Bagging)        \n",
    "  True = This will build an XGBoost model                                                     \n",
    "  CatBoost = THis will build a CatBoost model (provided you have CatBoost installed)          \n",
    "\n"
   ]
  },
  {
   "cell_type": "code",
   "execution_count": null,
   "metadata": {
    "colab": {
     "base_uri": "https://localhost:8080/",
     "height": 34
    },
    "id": "BjcoyRn-KGe4",
    "outputId": "9e6f73c9-b541-412a-a488-4b67c407f35b"
   },
   "outputs": [
    {
     "data": {
      "text/html": [
       "['Contract', 'TechSupport', 'OnlineSecurity', 'InternetService', 'tenure', 'PaymentMethod', 'PaperlessBilling', 'MonthlyCharges', 'StreamingMovies', 'OnlineBackup', 'MultipleLines', 'StreamingTV', 'SeniorCitizen', 'TotalCharges', 'Dependents', 'DeviceProtection', 'Partner']"
      ],
      "text/plain": [
       "['Contract',\n",
       " 'TechSupport',\n",
       " 'OnlineSecurity',\n",
       " 'InternetService',\n",
       " 'tenure',\n",
       " 'PaymentMethod',\n",
       " 'PaperlessBilling',\n",
       " 'MonthlyCharges',\n",
       " 'StreamingMovies',\n",
       " 'OnlineBackup',\n",
       " 'MultipleLines',\n",
       " 'StreamingTV',\n",
       " 'SeniorCitizen',\n",
       " 'TotalCharges',\n",
       " 'Dependents',\n",
       " 'DeviceProtection',\n",
       " 'Partner']"
      ]
     },
     "execution_count": 14,
     "metadata": {
      "tags": []
     },
     "output_type": "execute_result"
    }
   ],
   "source": [
    "features"
   ]
  },
  {
   "cell_type": "code",
   "execution_count": null,
   "metadata": {
    "id": "wg-qo8naI9pU"
   },
   "outputs": [],
   "source": [
    "from sklearn.metrics import classification_report, confusion_matrix"
   ]
  },
  {
   "cell_type": "code",
   "execution_count": null,
   "metadata": {
    "colab": {
     "base_uri": "https://localhost:8080/",
     "height": 453
    },
    "id": "WmKtpTtbKmgL",
    "outputId": "cae1aedd-0c67-4ba4-9479-b3108a21c364"
   },
   "outputs": [
    {
     "data": {
      "text/html": [
       "<div>\n",
       "<style scoped>\n",
       "    .dataframe tbody tr th:only-of-type {\n",
       "        vertical-align: middle;\n",
       "    }\n",
       "\n",
       "    .dataframe tbody tr th {\n",
       "        vertical-align: top;\n",
       "    }\n",
       "\n",
       "    .dataframe thead th {\n",
       "        text-align: right;\n",
       "    }\n",
       "</style>\n",
       "<table border=\"1\" class=\"dataframe\">\n",
       "  <thead>\n",
       "    <tr style=\"text-align: right;\">\n",
       "      <th></th>\n",
       "      <th>Contract</th>\n",
       "      <th>TechSupport</th>\n",
       "      <th>OnlineSecurity</th>\n",
       "      <th>InternetService</th>\n",
       "      <th>tenure</th>\n",
       "      <th>PaymentMethod</th>\n",
       "      <th>PaperlessBilling</th>\n",
       "      <th>MonthlyCharges</th>\n",
       "      <th>StreamingMovies</th>\n",
       "      <th>OnlineBackup</th>\n",
       "      <th>MultipleLines</th>\n",
       "      <th>StreamingTV</th>\n",
       "      <th>SeniorCitizen</th>\n",
       "      <th>TotalCharges</th>\n",
       "      <th>Dependents</th>\n",
       "      <th>DeviceProtection</th>\n",
       "      <th>Partner</th>\n",
       "      <th>Churn_proba_No</th>\n",
       "      <th>Churn_proba_Yes</th>\n",
       "      <th>Churn_Logistic Regression_predictions</th>\n",
       "      <th>Churn_Linear Discriminant_predictions</th>\n",
       "      <th>Churn_Naive Bayes_predictions</th>\n",
       "      <th>Churn_Bagging_predictions</th>\n",
       "      <th>Churn_XGBoost_predictions</th>\n",
       "      <th>Churn_Ensembled_predictions</th>\n",
       "    </tr>\n",
       "  </thead>\n",
       "  <tbody>\n",
       "    <tr>\n",
       "      <th>4930</th>\n",
       "      <td>0</td>\n",
       "      <td>2</td>\n",
       "      <td>0</td>\n",
       "      <td>0</td>\n",
       "      <td>1</td>\n",
       "      <td>2</td>\n",
       "      <td>1</td>\n",
       "      <td>0.261692</td>\n",
       "      <td>0</td>\n",
       "      <td>0</td>\n",
       "      <td>1</td>\n",
       "      <td>0</td>\n",
       "      <td>0</td>\n",
       "      <td>2190</td>\n",
       "      <td>0</td>\n",
       "      <td>2</td>\n",
       "      <td>0</td>\n",
       "      <td>0.436480</td>\n",
       "      <td>0.563520</td>\n",
       "      <td>Yes</td>\n",
       "      <td>Yes</td>\n",
       "      <td>Yes</td>\n",
       "      <td>No</td>\n",
       "      <td>Yes</td>\n",
       "      <td>Yes</td>\n",
       "    </tr>\n",
       "    <tr>\n",
       "      <th>4931</th>\n",
       "      <td>0</td>\n",
       "      <td>0</td>\n",
       "      <td>0</td>\n",
       "      <td>2</td>\n",
       "      <td>15</td>\n",
       "      <td>3</td>\n",
       "      <td>1</td>\n",
       "      <td>0.847761</td>\n",
       "      <td>2</td>\n",
       "      <td>0</td>\n",
       "      <td>0</td>\n",
       "      <td>2</td>\n",
       "      <td>0</td>\n",
       "      <td>4654</td>\n",
       "      <td>0</td>\n",
       "      <td>0</td>\n",
       "      <td>1</td>\n",
       "      <td>0.348952</td>\n",
       "      <td>0.651048</td>\n",
       "      <td>Yes</td>\n",
       "      <td>Yes</td>\n",
       "      <td>Yes</td>\n",
       "      <td>Yes</td>\n",
       "      <td>Yes</td>\n",
       "      <td>Yes</td>\n",
       "    </tr>\n",
       "    <tr>\n",
       "      <th>4932</th>\n",
       "      <td>2</td>\n",
       "      <td>2</td>\n",
       "      <td>2</td>\n",
       "      <td>2</td>\n",
       "      <td>27</td>\n",
       "      <td>2</td>\n",
       "      <td>1</td>\n",
       "      <td>0.620896</td>\n",
       "      <td>0</td>\n",
       "      <td>2</td>\n",
       "      <td>1</td>\n",
       "      <td>0</td>\n",
       "      <td>0</td>\n",
       "      <td>4655</td>\n",
       "      <td>1</td>\n",
       "      <td>2</td>\n",
       "      <td>1</td>\n",
       "      <td>0.901374</td>\n",
       "      <td>0.098626</td>\n",
       "      <td>No</td>\n",
       "      <td>No</td>\n",
       "      <td>No</td>\n",
       "      <td>No</td>\n",
       "      <td>No</td>\n",
       "      <td>No</td>\n",
       "    </tr>\n",
       "    <tr>\n",
       "      <th>4933</th>\n",
       "      <td>0</td>\n",
       "      <td>2</td>\n",
       "      <td>2</td>\n",
       "      <td>0</td>\n",
       "      <td>4</td>\n",
       "      <td>0</td>\n",
       "      <td>1</td>\n",
       "      <td>0.387562</td>\n",
       "      <td>2</td>\n",
       "      <td>2</td>\n",
       "      <td>2</td>\n",
       "      <td>2</td>\n",
       "      <td>0</td>\n",
       "      <td>4656</td>\n",
       "      <td>1</td>\n",
       "      <td>0</td>\n",
       "      <td>0</td>\n",
       "      <td>0.749450</td>\n",
       "      <td>0.250550</td>\n",
       "      <td>No</td>\n",
       "      <td>No</td>\n",
       "      <td>No</td>\n",
       "      <td>No</td>\n",
       "      <td>No</td>\n",
       "      <td>No</td>\n",
       "    </tr>\n",
       "    <tr>\n",
       "      <th>4934</th>\n",
       "      <td>1</td>\n",
       "      <td>2</td>\n",
       "      <td>2</td>\n",
       "      <td>2</td>\n",
       "      <td>72</td>\n",
       "      <td>3</td>\n",
       "      <td>1</td>\n",
       "      <td>0.920398</td>\n",
       "      <td>2</td>\n",
       "      <td>2</td>\n",
       "      <td>0</td>\n",
       "      <td>2</td>\n",
       "      <td>0</td>\n",
       "      <td>4657</td>\n",
       "      <td>0</td>\n",
       "      <td>0</td>\n",
       "      <td>1</td>\n",
       "      <td>0.918669</td>\n",
       "      <td>0.081331</td>\n",
       "      <td>No</td>\n",
       "      <td>No</td>\n",
       "      <td>No</td>\n",
       "      <td>No</td>\n",
       "      <td>No</td>\n",
       "      <td>No</td>\n",
       "    </tr>\n",
       "    <tr>\n",
       "      <th>...</th>\n",
       "      <td>...</td>\n",
       "      <td>...</td>\n",
       "      <td>...</td>\n",
       "      <td>...</td>\n",
       "      <td>...</td>\n",
       "      <td>...</td>\n",
       "      <td>...</td>\n",
       "      <td>...</td>\n",
       "      <td>...</td>\n",
       "      <td>...</td>\n",
       "      <td>...</td>\n",
       "      <td>...</td>\n",
       "      <td>...</td>\n",
       "      <td>...</td>\n",
       "      <td>...</td>\n",
       "      <td>...</td>\n",
       "      <td>...</td>\n",
       "      <td>...</td>\n",
       "      <td>...</td>\n",
       "      <td>...</td>\n",
       "      <td>...</td>\n",
       "      <td>...</td>\n",
       "      <td>...</td>\n",
       "      <td>...</td>\n",
       "      <td>...</td>\n",
       "    </tr>\n",
       "    <tr>\n",
       "      <th>7038</th>\n",
       "      <td>2</td>\n",
       "      <td>0</td>\n",
       "      <td>2</td>\n",
       "      <td>0</td>\n",
       "      <td>24</td>\n",
       "      <td>0</td>\n",
       "      <td>1</td>\n",
       "      <td>0.662189</td>\n",
       "      <td>2</td>\n",
       "      <td>0</td>\n",
       "      <td>0</td>\n",
       "      <td>2</td>\n",
       "      <td>0</td>\n",
       "      <td>6526</td>\n",
       "      <td>1</td>\n",
       "      <td>0</td>\n",
       "      <td>1</td>\n",
       "      <td>0.936400</td>\n",
       "      <td>0.063600</td>\n",
       "      <td>No</td>\n",
       "      <td>No</td>\n",
       "      <td>No</td>\n",
       "      <td>No</td>\n",
       "      <td>No</td>\n",
       "      <td>No</td>\n",
       "    </tr>\n",
       "    <tr>\n",
       "      <th>7039</th>\n",
       "      <td>2</td>\n",
       "      <td>2</td>\n",
       "      <td>0</td>\n",
       "      <td>2</td>\n",
       "      <td>72</td>\n",
       "      <td>2</td>\n",
       "      <td>1</td>\n",
       "      <td>0.845274</td>\n",
       "      <td>2</td>\n",
       "      <td>2</td>\n",
       "      <td>0</td>\n",
       "      <td>2</td>\n",
       "      <td>0</td>\n",
       "      <td>6527</td>\n",
       "      <td>1</td>\n",
       "      <td>0</td>\n",
       "      <td>1</td>\n",
       "      <td>0.869285</td>\n",
       "      <td>0.130715</td>\n",
       "      <td>No</td>\n",
       "      <td>No</td>\n",
       "      <td>No</td>\n",
       "      <td>No</td>\n",
       "      <td>No</td>\n",
       "      <td>No</td>\n",
       "    </tr>\n",
       "    <tr>\n",
       "      <th>7040</th>\n",
       "      <td>0</td>\n",
       "      <td>2</td>\n",
       "      <td>2</td>\n",
       "      <td>0</td>\n",
       "      <td>11</td>\n",
       "      <td>3</td>\n",
       "      <td>1</td>\n",
       "      <td>0.112935</td>\n",
       "      <td>0</td>\n",
       "      <td>0</td>\n",
       "      <td>2</td>\n",
       "      <td>0</td>\n",
       "      <td>0</td>\n",
       "      <td>6528</td>\n",
       "      <td>1</td>\n",
       "      <td>2</td>\n",
       "      <td>1</td>\n",
       "      <td>0.789141</td>\n",
       "      <td>0.210859</td>\n",
       "      <td>No</td>\n",
       "      <td>No</td>\n",
       "      <td>No</td>\n",
       "      <td>No</td>\n",
       "      <td>No</td>\n",
       "      <td>No</td>\n",
       "    </tr>\n",
       "    <tr>\n",
       "      <th>7041</th>\n",
       "      <td>0</td>\n",
       "      <td>2</td>\n",
       "      <td>0</td>\n",
       "      <td>2</td>\n",
       "      <td>4</td>\n",
       "      <td>0</td>\n",
       "      <td>1</td>\n",
       "      <td>0.558706</td>\n",
       "      <td>0</td>\n",
       "      <td>0</td>\n",
       "      <td>0</td>\n",
       "      <td>0</td>\n",
       "      <td>1</td>\n",
       "      <td>6529</td>\n",
       "      <td>0</td>\n",
       "      <td>2</td>\n",
       "      <td>1</td>\n",
       "      <td>0.394023</td>\n",
       "      <td>0.605977</td>\n",
       "      <td>Yes</td>\n",
       "      <td>Yes</td>\n",
       "      <td>Yes</td>\n",
       "      <td>Yes</td>\n",
       "      <td>Yes</td>\n",
       "      <td>Yes</td>\n",
       "    </tr>\n",
       "    <tr>\n",
       "      <th>7042</th>\n",
       "      <td>1</td>\n",
       "      <td>0</td>\n",
       "      <td>2</td>\n",
       "      <td>2</td>\n",
       "      <td>66</td>\n",
       "      <td>1</td>\n",
       "      <td>1</td>\n",
       "      <td>0.869652</td>\n",
       "      <td>2</td>\n",
       "      <td>0</td>\n",
       "      <td>1</td>\n",
       "      <td>2</td>\n",
       "      <td>0</td>\n",
       "      <td>6530</td>\n",
       "      <td>0</td>\n",
       "      <td>0</td>\n",
       "      <td>0</td>\n",
       "      <td>0.920923</td>\n",
       "      <td>0.079077</td>\n",
       "      <td>No</td>\n",
       "      <td>No</td>\n",
       "      <td>No</td>\n",
       "      <td>No</td>\n",
       "      <td>No</td>\n",
       "      <td>No</td>\n",
       "    </tr>\n",
       "  </tbody>\n",
       "</table>\n",
       "<p>2113 rows × 25 columns</p>\n",
       "</div>"
      ],
      "text/plain": [
       "      Contract  ...  Churn_Ensembled_predictions\n",
       "4930         0  ...                          Yes\n",
       "4931         0  ...                          Yes\n",
       "4932         2  ...                           No\n",
       "4933         0  ...                           No\n",
       "4934         1  ...                           No\n",
       "...        ...  ...                          ...\n",
       "7038         2  ...                           No\n",
       "7039         2  ...                           No\n",
       "7040         0  ...                           No\n",
       "7041         0  ...                          Yes\n",
       "7042         1  ...                           No\n",
       "\n",
       "[2113 rows x 25 columns]"
      ]
     },
     "execution_count": 15,
     "metadata": {
      "tags": []
     },
     "output_type": "execute_result"
    }
   ],
   "source": [
    "testm"
   ]
  },
  {
   "cell_type": "code",
   "execution_count": null,
   "metadata": {
    "colab": {
     "base_uri": "https://localhost:8080/",
     "height": 52
    },
    "id": "QoqsH4LeLD8D",
    "outputId": "66ecebca-37c9-4bc3-bb62-3b3cc3403900"
   },
   "outputs": [
    {
     "name": "stdout",
     "output_type": "stream",
     "text": [
      "[[1408  125]\n",
      " [ 307  273]]\n"
     ]
    }
   ],
   "source": [
    " print(confusion_matrix(test_df[target].values,testm['Churn_XGBoost_predictions'].values))"
   ]
  },
  {
   "cell_type": "code",
   "execution_count": null,
   "metadata": {
    "colab": {
     "base_uri": "https://localhost:8080/",
     "height": 52
    },
    "id": "Z2rkWfPvOWUs",
    "outputId": "a02b448b-359a-4133-8cea-d098890a9bc1"
   },
   "outputs": [
    {
     "name": "stdout",
     "output_type": "stream",
     "text": [
      "[[1405  128]\n",
      " [ 299  281]]\n"
     ]
    }
   ],
   "source": [
    " print(confusion_matrix(test_df[target].values,testm['Churn_Logistic Regression_predictions'].values))"
   ]
  },
  {
   "cell_type": "code",
   "execution_count": null,
   "metadata": {
    "colab": {
     "base_uri": "https://localhost:8080/",
     "height": 52
    },
    "id": "bWEcJG20TbcF",
    "outputId": "dd3cbd23-0de5-4dc8-d784-059c7f2969a0"
   },
   "outputs": [
    {
     "name": "stdout",
     "output_type": "stream",
     "text": [
      "[[1376  157]\n",
      " [ 278  302]]\n"
     ]
    }
   ],
   "source": [
    " print(confusion_matrix(test_df[target].values,testm['Churn_Ensembled_predictions'].values))"
   ]
  },
  {
   "cell_type": "code",
   "execution_count": null,
   "metadata": {
    "colab": {
     "base_uri": "https://localhost:8080/",
     "height": 173
    },
    "id": "IO2oYoHPLjWc",
    "outputId": "ab46d2a0-bd99-4d0a-ecf6-7a896027edcf"
   },
   "outputs": [
    {
     "name": "stdout",
     "output_type": "stream",
     "text": [
      "              precision    recall  f1-score   support\n",
      "\n",
      "          No       0.82      0.92      0.87      1533\n",
      "         Yes       0.69      0.47      0.56       580\n",
      "\n",
      "    accuracy                           0.80      2113\n",
      "   macro avg       0.75      0.69      0.71      2113\n",
      "weighted avg       0.78      0.80      0.78      2113\n",
      "\n"
     ]
    }
   ],
   "source": [
    "print(classification_report(test_df[target].values,testm['Churn_XGBoost_predictions'].values))"
   ]
  },
  {
   "cell_type": "code",
   "execution_count": null,
   "metadata": {
    "colab": {
     "base_uri": "https://localhost:8080/",
     "height": 173
    },
    "id": "7TmezM_STsYq",
    "outputId": "481efb4d-a01d-4de0-b24f-67d9758b58ee"
   },
   "outputs": [
    {
     "name": "stdout",
     "output_type": "stream",
     "text": [
      "              precision    recall  f1-score   support\n",
      "\n",
      "          No       0.83      0.90      0.86      1533\n",
      "         Yes       0.66      0.52      0.58       580\n",
      "\n",
      "    accuracy                           0.79      2113\n",
      "   macro avg       0.74      0.71      0.72      2113\n",
      "weighted avg       0.78      0.79      0.79      2113\n",
      "\n"
     ]
    }
   ],
   "source": [
    "print(classification_report(test_df[target].values,testm['Churn_Ensembled_predictions'].values))"
   ]
  }
 ],
 "metadata": {
  "colab": {
   "name": "AutoViML.ipynb",
   "provenance": []
  }
 },
 "nbformat": 4,
 "nbformat_minor": 0
}
